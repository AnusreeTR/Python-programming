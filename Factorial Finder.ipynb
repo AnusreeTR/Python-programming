{
 "cells": [
  {
   "cell_type": "code",
   "execution_count": 1,
   "id": "3db9e4f9",
   "metadata": {},
   "outputs": [],
   "source": [
    "#FACTORIAL FINDER - The Factorial of a positive integer, \n",
    "#n, is defined as the product of the sequence n, n-1, n-2, ...1 and the factorial of zero, 0, is defined as being 1. \n",
    "#Solve this using both loops and recursion\n",
    "\n",
    "def factorial(n):\n",
    "    result = 1\n",
    "\n",
    "    if n == 0:\n",
    "        return result\n",
    "\n",
    "    while n > 0:\n",
    "        result *= n\n",
    "        n -= 1\n",
    "\n",
    "    return result"
   ]
  },
  {
   "cell_type": "code",
   "execution_count": 2,
   "id": "3f21fcb9",
   "metadata": {},
   "outputs": [],
   "source": [
    "def factorial_rec(n):\n",
    "    if n == 0:\n",
    "        return 1\n",
    "    else:\n",
    "        return n * factorial_rec(n-1)"
   ]
  },
  {
   "cell_type": "code",
   "execution_count": 7,
   "id": "7517bc2a",
   "metadata": {},
   "outputs": [],
   "source": [
    "def main():\n",
    "    n = int(input(\"please enter an integer:\"))\n",
    "    result = factorial_rec(n)\n",
    "    print(result)\n",
    "    result = factorial(n)\n",
    "    print(result)\n",
    "\n"
   ]
  },
  {
   "cell_type": "code",
   "execution_count": 8,
   "id": "0d4ee57e",
   "metadata": {},
   "outputs": [
    {
     "name": "stdout",
     "output_type": "stream",
     "text": [
      "please enter an integer:5\n",
      "120\n",
      "120\n"
     ]
    }
   ],
   "source": [
    "\n",
    "if __name__ == \"__main__\":\n",
    "    main()"
   ]
  },
  {
   "cell_type": "code",
   "execution_count": null,
   "id": "782d5390",
   "metadata": {},
   "outputs": [],
   "source": []
  }
 ],
 "metadata": {
  "kernelspec": {
   "display_name": "Python 3 (ipykernel)",
   "language": "python",
   "name": "python3"
  },
  "language_info": {
   "codemirror_mode": {
    "name": "ipython",
    "version": 3
   },
   "file_extension": ".py",
   "mimetype": "text/x-python",
   "name": "python",
   "nbconvert_exporter": "python",
   "pygments_lexer": "ipython3",
   "version": "3.9.7"
  }
 },
 "nbformat": 4,
 "nbformat_minor": 5
}
