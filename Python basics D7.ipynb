{
 "cells": [
  {
   "cell_type": "code",
   "execution_count": null,
   "id": "03cd34ff",
   "metadata": {},
   "outputs": [],
   "source": [
    "#STRING\n",
    "\n",
    "string1 =\"{1} {0} {2}\".format('welcome','to','ust')\n",
    "print(\"npositional order:\")\n",
    "print(string1)"
   ]
  },
  {
   "cell_type": "code",
   "execution_count": null,
   "id": "d97441a6",
   "metadata": {},
   "outputs": [],
   "source": [
    "#convert int to float\n",
    "a = 10\n",
    "b = float(a)\n",
    "print(b)"
   ]
  },
  {
   "cell_type": "code",
   "execution_count": null,
   "id": "19377462",
   "metadata": {},
   "outputs": [],
   "source": [
    "#convert float to int\n",
    "a = 10.55\n",
    "b = int(a)\n",
    "print(b)"
   ]
  },
  {
   "cell_type": "code",
   "execution_count": null,
   "id": "8c4a7e4f",
   "metadata": {},
   "outputs": [],
   "source": [
    "#indexing\n",
    "\n",
    "a = [1,2,3,4,11,5]\n",
    "a.remove(11)\n",
    "print(a)"
   ]
  },
  {
   "cell_type": "code",
   "execution_count": null,
   "id": "7b596edf",
   "metadata": {},
   "outputs": [],
   "source": [
    "#using dict from keys to new list\n",
    "lis1 = ['a','b','c','c','a','c','a']\n",
    "b = list(dict.fromkeys(lis1))\n",
    "print(b)"
   ]
  },
  {
   "cell_type": "code",
   "execution_count": null,
   "id": "2f63a60b",
   "metadata": {},
   "outputs": [],
   "source": [
    "#RANGE\n",
    "mylist = [\"RCB\",\"MI\",\"CSK\",\"SRH\",\"RR\",\"KKR\"]\n",
    "print(mylist[2:5])"
   ]
  },
  {
   "cell_type": "code",
   "execution_count": null,
   "id": "da65111b",
   "metadata": {},
   "outputs": [],
   "source": [
    "#negative indexing\n",
    "print(mylist[-1])"
   ]
  },
  {
   "cell_type": "code",
   "execution_count": null,
   "id": "aee05de5",
   "metadata": {},
   "outputs": [],
   "source": [
    "print(mylist[:4])"
   ]
  },
  {
   "cell_type": "code",
   "execution_count": null,
   "id": "59bd0f31",
   "metadata": {},
   "outputs": [],
   "source": [
    "print(mylist[2:])"
   ]
  },
  {
   "cell_type": "code",
   "execution_count": null,
   "id": "4052c1df",
   "metadata": {},
   "outputs": [],
   "source": [
    "print(mylist[-4:-1])"
   ]
  },
  {
   "cell_type": "code",
   "execution_count": null,
   "id": "7ace134a",
   "metadata": {},
   "outputs": [],
   "source": [
    "if \"CSK\" in mylist:\n",
    "    \n",
    "    print(\"CSK is in mylist\" )"
   ]
  },
  {
   "cell_type": "code",
   "execution_count": null,
   "id": "3a8927be",
   "metadata": {},
   "outputs": [],
   "source": [
    "if \"IND\" in mylist:\n",
    "    \n",
    "    print(\"IND is in mylist\" )"
   ]
  },
  {
   "cell_type": "code",
   "execution_count": null,
   "id": "5a1ed122",
   "metadata": {},
   "outputs": [],
   "source": [
    "mylist = [\"RCB\",\"MI\",\"CSK\",\"SRH\",\"RR\",\"KKR\"]\n",
    "mylist[2] = \"IND\"\n",
    "print(mylist)"
   ]
  },
  {
   "cell_type": "code",
   "execution_count": null,
   "id": "3d005a48",
   "metadata": {},
   "outputs": [],
   "source": [
    "mylist = [\"RCB\",\"MI\",\"CSK\",\"SRH\",\"RR\",\"KKR\"]\n",
    "mylist[1:2] = [\"IND\",\"ENG\"]\n",
    "print(mylist)"
   ]
  },
  {
   "cell_type": "code",
   "execution_count": null,
   "id": "5171c8b1",
   "metadata": {},
   "outputs": [],
   "source": [
    "#INSERT -without replacing any values, at the specified index item adds\n",
    "\n",
    "mylist = [\"RCB\",\"MI\",\"CSK\",\"SRH\",\"RR\",\"KKR\"]\n",
    "mylist.insert(2,\"IND\")\n",
    "print(mylist)\n"
   ]
  },
  {
   "cell_type": "code",
   "execution_count": null,
   "id": "dbd1864e",
   "metadata": {},
   "outputs": [],
   "source": [
    "#append - adding item to the end of the list\n",
    "\n",
    "mylist = [\"RCB\",\"MI\",\"CSK\",\"SRH\",\"RR\",\"KKR\"]\n",
    "mylist.append(\"IND\")\n",
    "print(mylist)\n"
   ]
  },
  {
   "cell_type": "code",
   "execution_count": null,
   "id": "5c881811",
   "metadata": {},
   "outputs": [],
   "source": [
    "mylist1 = [\"python\",\"java\",\"PHP\"]\n",
    "mylist2 = [\"c\",\"c++\",\"dotnet\"]\n",
    "mylist1.extend(mylist2)\n",
    "print(mylist1)"
   ]
  },
  {
   "cell_type": "code",
   "execution_count": null,
   "id": "f5737054",
   "metadata": {},
   "outputs": [],
   "source": [
    "mylist = [\"RCB\",\"MI\",\"CSK\",\"SRH\",\"RR\",\"KKR\"]\n",
    "mylist.remove(\"SRH\")\n",
    "print(mylist)"
   ]
  },
  {
   "cell_type": "code",
   "execution_count": null,
   "id": "ae3c67e7",
   "metadata": {},
   "outputs": [],
   "source": [
    "mylist = [\"RCB\",\"MI\",\"CSK\",\"SRH\",\"RR\",\"KKR\"]\n",
    "mylist.pop(1)\n",
    "print(mylist)"
   ]
  },
  {
   "cell_type": "code",
   "execution_count": null,
   "id": "7cb45961",
   "metadata": {},
   "outputs": [],
   "source": [
    "#gonna remove last item\n",
    "mylist = [\"RCB\",\"MI\",\"CSK\",\"SRH\",\"RR\",\"KKR\"]\n",
    "mylist.pop()\n",
    "print(mylist)"
   ]
  },
  {
   "cell_type": "code",
   "execution_count": null,
   "id": "ac710ae1",
   "metadata": {},
   "outputs": [],
   "source": [
    "mylist = [\"RCB\",\"MI\",\"CSK\",\"SRH\",\"RR\",\"KKR\"]\n",
    "mylist.clear()\n",
    "print(mylist)"
   ]
  },
  {
   "cell_type": "code",
   "execution_count": null,
   "id": "23b896f0",
   "metadata": {},
   "outputs": [],
   "source": [
    "print(mylist[2:3])"
   ]
  },
  {
   "cell_type": "code",
   "execution_count": null,
   "id": "396429c5",
   "metadata": {},
   "outputs": [],
   "source": [
    "mylist = [\"RCB\",\"MI\",\"CSK\",\"SRH\",\"RR\",\"KKR\"]\n",
    "for x in mylist:\n",
    "    print(x)\n"
   ]
  },
  {
   "cell_type": "code",
   "execution_count": null,
   "id": "fcfcda69",
   "metadata": {},
   "outputs": [],
   "source": [
    "mylist = [\"RCB\",\"MI\",\"CSK\",\"SRH\",\"RR\",\"KKR\"]\n",
    "for x in range(len(mylist)):\n",
    "    print(mylist[x])\n"
   ]
  },
  {
   "cell_type": "code",
   "execution_count": null,
   "id": "ce4dbf80",
   "metadata": {},
   "outputs": [],
   "source": [
    "mylist = [\"RCB\",\"MI\",\"CSK\",\"SRH\",\"RR\",\"KKR\"]\n",
    "i = 0\n",
    "while i < len(mylist):\n",
    "    print(mylist[i])\n",
    "    i = i+1\n"
   ]
  },
  {
   "cell_type": "code",
   "execution_count": null,
   "id": "13dda2ee",
   "metadata": {},
   "outputs": [],
   "source": [
    "# alphabetical order arranging - SORTING\n",
    "mylist = [\"RCB\",\"MI\",\"CSK\",\"SRH\",\"RR\",\"KKR\"]\n",
    "mylist.sort()\n",
    "print(mylist)"
   ]
  },
  {
   "cell_type": "code",
   "execution_count": null,
   "id": "4602e12d",
   "metadata": {},
   "outputs": [],
   "source": [
    "numlist = [100,55,65,76,82]\n",
    "numlist.sort()\n",
    "print(numlist)"
   ]
  },
  {
   "cell_type": "code",
   "execution_count": null,
   "id": "505bfb31",
   "metadata": {},
   "outputs": [],
   "source": [
    "numlist = [100,55,65,76,82]\n",
    "numlist.sort(reverse = True)\n",
    "print(numlist)"
   ]
  },
  {
   "cell_type": "code",
   "execution_count": null,
   "id": "faee9a36",
   "metadata": {},
   "outputs": [],
   "source": [
    "# sorting is case sensitive, caps first and then small letter\n",
    "alist = [\"chennai\", \"bangalore\", \"hyderabad\", \"Trivandrum\",\"Delhi\"]\n",
    "alist.sort()\n",
    "print(alist)"
   ]
  },
  {
   "cell_type": "code",
   "execution_count": null,
   "id": "56e98c7f",
   "metadata": {},
   "outputs": [],
   "source": [
    "alist = [\"chennai\", \"bangalore\", \"hyderabad\", \"Trivandrum\",\"Delhi\"]\n",
    "alist.sort(key = str.lower)\n",
    "print(alist)"
   ]
  },
  {
   "cell_type": "code",
   "execution_count": null,
   "id": "538aa921",
   "metadata": {},
   "outputs": [],
   "source": [
    "alist = [\"chennai\", \"bangalore\", \"hyderabad\", \"Trivandrum\",\"Delhi\"]\n",
    "alist.reverse()\n",
    "print(alist)"
   ]
  },
  {
   "cell_type": "code",
   "execution_count": null,
   "id": "5d96a8de",
   "metadata": {},
   "outputs": [],
   "source": [
    "#copying alist to blist\n",
    "alist = [\"chennai\", \"bangalore\", \"hyderabad\", \"Trivandrum\",\"Delhi\"]\n",
    "blist = list(alist)\n",
    "print(blist)"
   ]
  },
  {
   "cell_type": "code",
   "execution_count": null,
   "id": "a6fdd75c",
   "metadata": {},
   "outputs": [],
   "source": [
    "#tuple are ordered, immutable, allow duplicates\n",
    "mytuple = (\"sandeep\",\"umrah\",\"jeffry\",\"anil\",\"ghousiya\")\n",
    "print(mytuple)"
   ]
  },
  {
   "cell_type": "code",
   "execution_count": null,
   "id": "96a76b4b",
   "metadata": {},
   "outputs": [],
   "source": [
    "mytuple = (\"sandeep\",\"umrah\",\"jeffry\",\"anil\",\"ghousiya\")\n",
    "print(len(mytuple))"
   ]
  },
  {
   "cell_type": "code",
   "execution_count": null,
   "id": "cca41914",
   "metadata": {},
   "outputs": [],
   "source": [
    "x = (\"sandeep\",\"umrah\",\"jeffry\",\"anil\",\"ghousiya\")\n",
    "y = list(x)\n",
    "\n",
    "print(x)"
   ]
  },
  {
   "cell_type": "code",
   "execution_count": null,
   "id": "ea60c43e",
   "metadata": {},
   "outputs": [],
   "source": [
    "#converting to list\n",
    "print(y)"
   ]
  },
  {
   "cell_type": "code",
   "execution_count": null,
   "id": "156037d1",
   "metadata": {},
   "outputs": [],
   "source": [
    "#converting tuple again\n",
    "x = tuple(y)\n",
    "print(x)"
   ]
  },
  {
   "cell_type": "code",
   "execution_count": null,
   "id": "75a63187",
   "metadata": {},
   "outputs": [],
   "source": [
    "#SETS - unordered, immutable, not allow duplicates\n",
    "\n",
    "myset = {\"sandeep\",\"umrah\",\"jeffry\",\"anil\",\"ghousiya\"}\n",
    "print(myset)\n"
   ]
  },
  {
   "cell_type": "code",
   "execution_count": null,
   "id": "0e04d3ff",
   "metadata": {},
   "outputs": [],
   "source": [
    "myset = {\"sandeep\",\"umrah\",\"sandeep\",\"jeffry\",\"anil\",\"ghousiya\"}\n",
    "print(myset)\n"
   ]
  },
  {
   "cell_type": "code",
   "execution_count": null,
   "id": "9028502a",
   "metadata": {},
   "outputs": [],
   "source": [
    "#DICTIONARY - key value pairs\n",
    "#ordered, changeable, doesn't allow duplicates\n",
    "mydict = {\n",
    "    \"brand\":\"Maruti\",\n",
    "    \"model\":\"swift\",\n",
    "    \"year\":1983\n",
    "}\n",
    "print(mydict)"
   ]
  },
  {
   "cell_type": "code",
   "execution_count": null,
   "id": "1d71655b",
   "metadata": {},
   "outputs": [],
   "source": [
    "#to give just one value\n",
    "print(mydict[\"brand\"])"
   ]
  },
  {
   "cell_type": "code",
   "execution_count": null,
   "id": "9ba06a6b",
   "metadata": {},
   "outputs": [],
   "source": [
    "mydict = {\n",
    "    \"brand\":\"Maruti\",\n",
    "    \"model\":\"swift\",\n",
    "    \"year\":1983,\n",
    "    \"year\":1985\n",
    "}\n",
    "print(mydict)"
   ]
  },
  {
   "cell_type": "code",
   "execution_count": 67,
   "id": "73268ddc",
   "metadata": {},
   "outputs": [
    {
     "name": "stdout",
     "output_type": "stream",
     "text": [
      "dict_keys(['brand', 'model', 'year'])\n"
     ]
    }
   ],
   "source": [
    "print(mydict.keys())"
   ]
  },
  {
   "cell_type": "code",
   "execution_count": 68,
   "id": "49635660",
   "metadata": {},
   "outputs": [
    {
     "name": "stdout",
     "output_type": "stream",
     "text": [
      "dict_values(['Maruti', 'swift', 1985])\n"
     ]
    }
   ],
   "source": [
    "print(mydict.values())"
   ]
  },
  {
   "cell_type": "code",
   "execution_count": 69,
   "id": "05020f84",
   "metadata": {},
   "outputs": [
    {
     "name": "stdout",
     "output_type": "stream",
     "text": [
      "{'brand': 'Maruti', 'model': 'celerio', 'year': 1985}\n"
     ]
    }
   ],
   "source": [
    "#update\n",
    "mydict = {\n",
    "    \"brand\":\"Maruti\",\n",
    "    \"model\":\"swift\",\n",
    "    \"year\":1983,\n",
    "    \"year\":1985\n",
    "}\n",
    "mydict[\"model\"] = \"celerio\"\n",
    "print(mydict)"
   ]
  },
  {
   "cell_type": "code",
   "execution_count": 70,
   "id": "4feb93a8",
   "metadata": {},
   "outputs": [
    {
     "name": "stdout",
     "output_type": "stream",
     "text": [
      "ghgnhnmksmknjdjnjndjbhdb\n",
      "bsnjnskmsmkmkxhjbxh\n",
      "nmkmlmkjshhd\n"
     ]
    }
   ],
   "source": [
    "a = \"\"\"ghgnhnmksmknjdjnjndjbhdb\n",
    "bsnjnskmsmkmkxhjbxh\n",
    "nmkmlmkjshhd\"\"\"\n",
    "print(a)"
   ]
  },
  {
   "cell_type": "code",
   "execution_count": 72,
   "id": "cf12c0de",
   "metadata": {},
   "outputs": [
    {
     "name": "stdout",
     "output_type": "stream",
     "text": [
      "llo\n"
     ]
    }
   ],
   "source": [
    "#slice the string\n",
    "\n",
    "a = \"hello, world\"\n",
    "print(a[2:5])"
   ]
  },
  {
   "cell_type": "code",
   "execution_count": 73,
   "id": "8eab334f",
   "metadata": {},
   "outputs": [
    {
     "name": "stdout",
     "output_type": "stream",
     "text": [
      "hello\n"
     ]
    }
   ],
   "source": [
    "print(a[:5])"
   ]
  },
  {
   "cell_type": "code",
   "execution_count": 74,
   "id": "418f2f9d",
   "metadata": {},
   "outputs": [
    {
     "name": "stdout",
     "output_type": "stream",
     "text": [
      ", world\n"
     ]
    }
   ],
   "source": [
    "print(a[5:])"
   ]
  },
  {
   "cell_type": "code",
   "execution_count": 75,
   "id": "3f469b83",
   "metadata": {},
   "outputs": [
    {
     "name": "stdout",
     "output_type": "stream",
     "text": [
      "HELLO, WORLD\n"
     ]
    }
   ],
   "source": [
    "a = \"hello, world\"\n",
    "print(a.upper())"
   ]
  },
  {
   "cell_type": "code",
   "execution_count": 76,
   "id": "c8edf4b4",
   "metadata": {},
   "outputs": [
    {
     "name": "stdout",
     "output_type": "stream",
     "text": [
      "hello, world\n"
     ]
    }
   ],
   "source": [
    "a = \"Hello, World\"\n",
    "print(a.lower())"
   ]
  },
  {
   "cell_type": "code",
   "execution_count": 77,
   "id": "5f7fc658",
   "metadata": {},
   "outputs": [
    {
     "name": "stdout",
     "output_type": "stream",
     "text": [
      "Jello, World\n"
     ]
    }
   ],
   "source": [
    "a = \"Hello, World\"\n",
    "print(a.replace(\"H\",\"J\"))"
   ]
  },
  {
   "cell_type": "code",
   "execution_count": 79,
   "id": "641bc687",
   "metadata": {},
   "outputs": [
    {
     "name": "stdout",
     "output_type": "stream",
     "text": [
      "HellQ, WQrld\n"
     ]
    }
   ],
   "source": [
    "a = \"Hello, World\"\n",
    "print(a.replace(\"o\",\"Q\"))"
   ]
  },
  {
   "cell_type": "code",
   "execution_count": 80,
   "id": "794f7909",
   "metadata": {},
   "outputs": [
    {
     "name": "stdout",
     "output_type": "stream",
     "text": [
      "helloworld\n"
     ]
    }
   ],
   "source": [
    "a = \"hello\"\n",
    "b = \"world\"\n",
    "c = a+b\n",
    "print(c)"
   ]
  },
  {
   "cell_type": "code",
   "execution_count": 81,
   "id": "9a3352fa",
   "metadata": {},
   "outputs": [
    {
     "name": "stdout",
     "output_type": "stream",
     "text": [
      "['a', 'b', 'c']\n"
     ]
    }
   ],
   "source": [
    "list_one = [\"a\",\"b\",\"c\"]\n",
    "b = list(dict.fromkeys(list_one))\n",
    "print(b)"
   ]
  },
  {
   "cell_type": "code",
   "execution_count": 82,
   "id": "0e883e6d",
   "metadata": {},
   "outputs": [
    {
     "name": "stdout",
     "output_type": "stream",
     "text": [
      "{'brand': 'ford', 'year': '1964'}\n"
     ]
    }
   ],
   "source": [
    "#removing item with specified key name\n",
    "\n",
    "mydict = {\n",
    "    \"brand\":\"ford\",\n",
    "    \"model\":\"mustang\",\n",
    "    \"year\":\"1964\"\n",
    "}\n",
    "mydict.pop(\"model\")\n",
    "print(mydict)"
   ]
  },
  {
   "cell_type": "code",
   "execution_count": 83,
   "id": "a42030b1",
   "metadata": {},
   "outputs": [
    {
     "name": "stdout",
     "output_type": "stream",
     "text": [
      "{'brand': 'ford', 'model': 'mustang'}\n"
     ]
    }
   ],
   "source": [
    "#removes last inserteditem\n",
    "mydict = {\n",
    "    \"brand\":\"ford\",\n",
    "    \"model\":\"mustang\",\n",
    "    \"year\":\"1964\"\n",
    "}\n",
    "mydict.popitem()\n",
    "print(mydict)"
   ]
  },
  {
   "cell_type": "code",
   "execution_count": 84,
   "id": "865e575c",
   "metadata": {},
   "outputs": [
    {
     "name": "stdout",
     "output_type": "stream",
     "text": [
      "{'brand': 'ford', 'year': '1964'}\n"
     ]
    }
   ],
   "source": [
    "#removes item with specified key name\n",
    "mydict = {\n",
    "    \"brand\":\"ford\",\n",
    "    \"model\":\"mustang\",\n",
    "    \"year\":\"1964\"\n",
    "}\n",
    "del mydict[\"model\"]\n",
    "print(mydict)"
   ]
  },
  {
   "cell_type": "code",
   "execution_count": 85,
   "id": "9a349bc1",
   "metadata": {},
   "outputs": [
    {
     "name": "stdout",
     "output_type": "stream",
     "text": [
      "{}\n"
     ]
    }
   ],
   "source": [
    "# clear method empties the dictionary\n",
    "mydict = {\n",
    "    \"brand\":\"ford\",\n",
    "    \"model\":\"mustang\",\n",
    "    \"year\":\"1964\"\n",
    "}\n",
    "mydict.clear()\n",
    "print(mydict)"
   ]
  },
  {
   "cell_type": "code",
   "execution_count": 86,
   "id": "fffa1811",
   "metadata": {},
   "outputs": [
    {
     "name": "stdout",
     "output_type": "stream",
     "text": [
      "brand\n",
      "model\n",
      "year\n"
     ]
    }
   ],
   "source": [
    "mydict = {\n",
    "    \"brand\":\"ford\",\n",
    "    \"model\":\"mustang\",\n",
    "    \"year\":\"1964\"\n",
    "}\n",
    "for i in mydict:\n",
    "    print(i)"
   ]
  },
  {
   "cell_type": "code",
   "execution_count": 87,
   "id": "22887be3",
   "metadata": {},
   "outputs": [
    {
     "name": "stdout",
     "output_type": "stream",
     "text": [
      "brand\n",
      "model\n",
      "year\n"
     ]
    }
   ],
   "source": [
    "#returns the keys of the dictionary\n",
    "for i in mydict.keys():\n",
    "    print(i)"
   ]
  },
  {
   "cell_type": "code",
   "execution_count": 88,
   "id": "c966cb66",
   "metadata": {},
   "outputs": [
    {
     "name": "stdout",
     "output_type": "stream",
     "text": [
      "brand ford\n",
      "model mustang\n",
      "year 1964\n"
     ]
    }
   ],
   "source": [
    "#loop through both keys and values\n",
    "for x,y in mydict.items():\n",
    "    print(x,y)"
   ]
  },
  {
   "cell_type": "code",
   "execution_count": 91,
   "id": "0b75a2c7",
   "metadata": {},
   "outputs": [
    {
     "name": "stdout",
     "output_type": "stream",
     "text": [
      "ford\n"
     ]
    }
   ],
   "source": [
    "#access item\n",
    "\n",
    "mydict = {\n",
    "    \"brand\":\"ford\",\n",
    "    \"model\":\"mustang\",\n",
    "    \"year\":\"1964\"\n",
    "}\n",
    "x = mydict.get(\"brand\")\n",
    "print(x)\n"
   ]
  },
  {
   "cell_type": "code",
   "execution_count": 92,
   "id": "2a4c4ec1",
   "metadata": {},
   "outputs": [
    {
     "name": "stdout",
     "output_type": "stream",
     "text": [
      "{'brand': 'ford', 'model': 'mustang', 'year': '1964', 'color': 'red'}\n"
     ]
    }
   ],
   "source": [
    "# add item\n",
    "\n",
    "mydict = {\n",
    "    \"brand\":\"ford\",\n",
    "    \"model\":\"mustang\",\n",
    "    \"year\":\"1964\"\n",
    "}\n",
    "mydict[\"color\"] = \"red\"\n",
    "print(mydict)"
   ]
  },
  {
   "cell_type": "code",
   "execution_count": 94,
   "id": "af75aff2",
   "metadata": {},
   "outputs": [
    {
     "name": "stdout",
     "output_type": "stream",
     "text": [
      "{'brand': 'Ford', 'model': 'Mustang', 'year': 1964, 'color': 'red'}\n"
     ]
    }
   ],
   "source": [
    "#update\n",
    "mydict = {\n",
    "    \"brand\":\"ford\",\n",
    "    \"model\":\"mustang\",\n",
    "    \"year\":\"1964\"\n",
    "}\n",
    "mydict.update()\n",
    "print(mydict)"
   ]
  },
  {
   "cell_type": "code",
   "execution_count": 127,
   "id": "1d7367f4",
   "metadata": {},
   "outputs": [
    {
     "name": "stdout",
     "output_type": "stream",
     "text": [
      "{'brand': 'ford', 'model': 'mustang', 'year': '1964'}\n",
      "mustang\n"
     ]
    }
   ],
   "source": [
    "#copy\n",
    "mydict = {\n",
    "    \"brand\":\"ford\",\n",
    "    \"model\":\"mustang\",\n",
    "    \"year\":\"1964\"\n",
    "}\n",
    "thisdict = mydict.copy()\n",
    "print(thisdict)\n",
    "\n",
    "#setdefault - get the value for mentioned item\n",
    "x = mydict.setdefault(\"model\",\"mustang\")\n",
    "print(x)"
   ]
  },
  {
   "cell_type": "code",
   "execution_count": 126,
   "id": "0b948fa7",
   "metadata": {},
   "outputs": [
    {
     "name": "stdout",
     "output_type": "stream",
     "text": [
      "{'key1': None, 'key2': None, 'key3': None}\n"
     ]
    }
   ],
   "source": [
    "#fromkeys() - Returns a dictionary with specified keys and values (keys are required whereas values are optional)\n",
    "dict1 = ('key1','key2','key3')\n",
    "x = dict.fromkeys(dict1)\n",
    "print(x)\n"
   ]
  },
  {
   "cell_type": "code",
   "execution_count": null,
   "id": "2a775c01",
   "metadata": {},
   "outputs": [],
   "source": []
  },
  {
   "cell_type": "code",
   "execution_count": 96,
   "id": "59327976",
   "metadata": {},
   "outputs": [
    {
     "name": "stdout",
     "output_type": "stream",
     "text": [
      "{'apple', 'orange', 'banana'}\n"
     ]
    }
   ],
   "source": [
    "#SET\n",
    "myset = {\"apple\",\"orange\",\"banana\"}\n",
    "print(myset)"
   ]
  },
  {
   "cell_type": "code",
   "execution_count": 97,
   "id": "2dbc66f8",
   "metadata": {},
   "outputs": [
    {
     "name": "stdout",
     "output_type": "stream",
     "text": [
      "True\n"
     ]
    }
   ],
   "source": [
    "#access set item\n",
    "myset = {\"apple\",\"orange\",\"banana\"}\n",
    "print (\"banana\" in myset)"
   ]
  },
  {
   "cell_type": "code",
   "execution_count": 98,
   "id": "696d8a7e",
   "metadata": {},
   "outputs": [
    {
     "name": "stdout",
     "output_type": "stream",
     "text": [
      "orange\n",
      "banana\n",
      "apple\n"
     ]
    }
   ],
   "source": [
    "myset = {\"apple\",\"orange\",\"banana\"}\n",
    "for i in myset:\n",
    "    print(i)"
   ]
  },
  {
   "cell_type": "code",
   "execution_count": 100,
   "id": "a0015c88",
   "metadata": {},
   "outputs": [
    {
     "name": "stdout",
     "output_type": "stream",
     "text": [
      "{'orange', 'banana', 'apple', 'plum'}\n"
     ]
    }
   ],
   "source": [
    "myset.add(\"plum\")\n",
    "print(myset)"
   ]
  },
  {
   "cell_type": "code",
   "execution_count": 103,
   "id": "1de8d62e",
   "metadata": {},
   "outputs": [
    {
     "name": "stdout",
     "output_type": "stream",
     "text": [
      "{'orange', 'apple', 'blue', 'green', 'banana', 'red'}\n",
      "{'hindi', 'orange', 'apple', 'blue', 'green', 'banana', 'red', 'eng'}\n"
     ]
    }
   ],
   "source": [
    "#add set items\n",
    "set1 = {\"apple\",\"banana\",\"orange\"}\n",
    "set2 = {\"red\",\"blue\",\"green\"}\n",
    "set1.update(set2)\n",
    "print(set1)\n",
    "list1 = [\"eng\",\"hindi\"]\n",
    "set1.update(list1)\n",
    "print(set1)"
   ]
  },
  {
   "cell_type": "code",
   "execution_count": 106,
   "id": "84191b5a",
   "metadata": {},
   "outputs": [
    {
     "name": "stdout",
     "output_type": "stream",
     "text": [
      "{'banana', 'apple', 'plum'}\n",
      "{'banana', 'apple'}\n"
     ]
    }
   ],
   "source": [
    "#remove set items\n",
    "set1 = {\"apple\",\"banana\",\"orange\",\"plum\"}\n",
    "set1.remove(\"orange\")\n",
    "print(set1)\n",
    "set1.discard(\"plum\")\n",
    "print(set1)"
   ]
  },
  {
   "cell_type": "code",
   "execution_count": 107,
   "id": "6ff6cda9",
   "metadata": {},
   "outputs": [
    {
     "name": "stdout",
     "output_type": "stream",
     "text": [
      "pinky\n",
      "inky\n",
      "ponky\n"
     ]
    }
   ],
   "source": [
    "#loop\n",
    "set1 = {\"inky\",\"pinky\",\"ponky\"}\n",
    "for i in set1:\n",
    "    print(i)"
   ]
  },
  {
   "cell_type": "code",
   "execution_count": 112,
   "id": "4326e0f9",
   "metadata": {},
   "outputs": [
    {
     "name": "stdout",
     "output_type": "stream",
     "text": [
      "{1, 'pinky', 'inky', 3, 2, 'ponky'}\n",
      "{3}\n",
      "{3}\n",
      "{1, 2}\n"
     ]
    }
   ],
   "source": [
    "#union\n",
    "set1 = {\"inky\",\"pinky\",\"ponky\",3}\n",
    "set2 = {1,2,3}\n",
    "set3 = set1.union(set2)\n",
    "print(set3)\n",
    "#intersection\n",
    "set1.intersection_update(set2)\n",
    "print(set1)\n",
    "#intersection2\n",
    "p = set1.intersection(set2)\n",
    "print(p)\n",
    "#return elements that are not present in both sets\n",
    "set1.symmetric_difference_update(set2)\n",
    "print(set1)"
   ]
  },
  {
   "cell_type": "code",
   "execution_count": 120,
   "id": "3d013e34",
   "metadata": {},
   "outputs": [
    {
     "name": "stdout",
     "output_type": "stream",
     "text": [
      "False\n",
      "{'inky', 'ponky'}\n"
     ]
    }
   ],
   "source": [
    "#two sets have intersection or not\n",
    "set1 = {\"inky\",\"pinky\",\"ponky\"}\n",
    "set2 = {1,2,3,\"pinky\"}\n",
    "z = set1.isdisjoint(set2)\n",
    "print(z)\n",
    "p = set1.difference(set2)\n",
    "print(p)"
   ]
  },
  {
   "cell_type": "code",
   "execution_count": 121,
   "id": "1dc7072b",
   "metadata": {},
   "outputs": [
    {
     "name": "stdout",
     "output_type": "stream",
     "text": [
      "{'inky', 'ponky'}\n"
     ]
    }
   ],
   "source": [
    "set1 = {\"inky\",\"pinky\",\"ponky\"}\n",
    "set2 = {1,2,3,\"pinky\"}\n",
    "p = set1.difference(set2)\n",
    "print(p)"
   ]
  },
  {
   "cell_type": "code",
   "execution_count": 123,
   "id": "2deeac32",
   "metadata": {},
   "outputs": [
    {
     "name": "stdout",
     "output_type": "stream",
     "text": [
      "True\n",
      "True\n"
     ]
    }
   ],
   "source": [
    "set1 = {\"a\",\"b\",\"c\",\"d\",\"e\",\"f\"}\n",
    "set2 = {\"b\",\"c\",\"d\"}\n",
    "y = set2.issubset(set1)\n",
    "print(y)\n",
    "z = set1.issuperset(set2)\n",
    "print(z)"
   ]
  },
  {
   "cell_type": "code",
   "execution_count": 125,
   "id": "aae38195",
   "metadata": {},
   "outputs": [
    {
     "name": "stdout",
     "output_type": "stream",
     "text": [
      "4\n",
      "7\n"
     ]
    }
   ],
   "source": [
    "#TUPLE\n",
    "\n",
    "#count - number of times a particular value appears\n",
    "tup = (1,2,3,3,3,4,5,6,6,3,7,9)\n",
    "t = tup.count(3)\n",
    "print(t)\n",
    "\n",
    "#index - search for the first occurance of value 6 and returns its index\n",
    "u = tup.index(6)\n",
    "print(u)"
   ]
  },
  {
   "cell_type": "code",
   "execution_count": null,
   "id": "6e9cd736",
   "metadata": {},
   "outputs": [],
   "source": []
  }
 ],
 "metadata": {
  "kernelspec": {
   "display_name": "Python 3 (ipykernel)",
   "language": "python",
   "name": "python3"
  },
  "language_info": {
   "codemirror_mode": {
    "name": "ipython",
    "version": 3
   },
   "file_extension": ".py",
   "mimetype": "text/x-python",
   "name": "python",
   "nbconvert_exporter": "python",
   "pygments_lexer": "ipython3",
   "version": "3.9.7"
  }
 },
 "nbformat": 4,
 "nbformat_minor": 5
}
