{
 "cells": [
  {
   "cell_type": "code",
   "execution_count": 13,
   "id": "88b7433a",
   "metadata": {},
   "outputs": [],
   "source": [
    "import imaplib"
   ]
  },
  {
   "cell_type": "code",
   "execution_count": 14,
   "id": "3bd33b69",
   "metadata": {},
   "outputs": [],
   "source": [
    "M = imaplib.IMAP4_SSL('imap.gmail.com')"
   ]
  },
  {
   "cell_type": "code",
   "execution_count": 15,
   "id": "0672f0de",
   "metadata": {},
   "outputs": [
    {
     "name": "stdout",
     "output_type": "stream",
     "text": [
      "enter your email: anukarthika777@gmail.com\n"
     ]
    }
   ],
   "source": [
    "import getpass\n",
    "user = input(\"enter your email: \")"
   ]
  },
  {
   "cell_type": "code",
   "execution_count": 16,
   "id": "fe7aee53",
   "metadata": {},
   "outputs": [
    {
     "name": "stdout",
     "output_type": "stream",
     "text": [
      "enter your password: ········\n"
     ]
    }
   ],
   "source": [
    "password = getpass.getpass(\"enter your password: \")"
   ]
  },
  {
   "cell_type": "code",
   "execution_count": 17,
   "id": "8b199be7",
   "metadata": {},
   "outputs": [
    {
     "data": {
      "text/plain": [
       "('OK', [b'anukarthika777@gmail.com authenticated (Success)'])"
      ]
     },
     "execution_count": 17,
     "metadata": {},
     "output_type": "execute_result"
    }
   ],
   "source": [
    "M.login(user,password)"
   ]
  },
  {
   "cell_type": "code",
   "execution_count": 18,
   "id": "8069b68c",
   "metadata": {},
   "outputs": [
    {
     "data": {
      "text/plain": [
       "('OK',\n",
       " [b'(\\\\HasNoChildren) \"/\" \"INBOX\"',\n",
       "  b'(\\\\HasChildren \\\\Noselect) \"/\" \"[Gmail]\"',\n",
       "  b'(\\\\All \\\\HasNoChildren) \"/\" \"[Gmail]/All Mail\"',\n",
       "  b'(\\\\Drafts \\\\HasNoChildren) \"/\" \"[Gmail]/Drafts\"',\n",
       "  b'(\\\\HasNoChildren \\\\Important) \"/\" \"[Gmail]/Important\"',\n",
       "  b'(\\\\HasNoChildren \\\\Sent) \"/\" \"[Gmail]/Sent Mail\"',\n",
       "  b'(\\\\HasNoChildren \\\\Junk) \"/\" \"[Gmail]/Spam\"',\n",
       "  b'(\\\\Flagged \\\\HasNoChildren) \"/\" \"[Gmail]/Starred\"',\n",
       "  b'(\\\\HasNoChildren \\\\Trash) \"/\" \"[Gmail]/Trash\"'])"
      ]
     },
     "execution_count": 18,
     "metadata": {},
     "output_type": "execute_result"
    }
   ],
   "source": [
    "M.list()"
   ]
  },
  {
   "cell_type": "code",
   "execution_count": 19,
   "id": "a7355527",
   "metadata": {},
   "outputs": [
    {
     "data": {
      "text/plain": [
       "('OK', [b'6984'])"
      ]
     },
     "execution_count": 19,
     "metadata": {},
     "output_type": "execute_result"
    }
   ],
   "source": [
    "M.select(\"inbox\")"
   ]
  },
  {
   "cell_type": "code",
   "execution_count": 20,
   "id": "91624c6b",
   "metadata": {},
   "outputs": [],
   "source": [
    "imaplib._MAXLINE = 10000000"
   ]
  },
  {
   "cell_type": "code",
   "execution_count": 21,
   "id": "65437aa5",
   "metadata": {},
   "outputs": [
    {
     "name": "stdout",
     "output_type": "stream",
     "text": [
      "enter your email: anukarthika777@gmail.com\n",
      "enter your password: ········\n"
     ]
    },
    {
     "data": {
      "text/plain": [
       "('OK', [b'anukarthika777@gmail.com authenticated (Success)'])"
      ]
     },
     "execution_count": 21,
     "metadata": {},
     "output_type": "execute_result"
    }
   ],
   "source": [
    "import imaplib\n",
    "import getpass\n",
    "M = imaplib.IMAP4_SSL('imap.gmail.com')\n",
    "user = input(\"enter your email: \")\n",
    "password = getpass.getpass(\"enter your password: \")\n",
    "M.login(user,password)"
   ]
  },
  {
   "cell_type": "code",
   "execution_count": 26,
   "id": "958a36a2",
   "metadata": {},
   "outputs": [
    {
     "data": {
      "text/plain": [
       "('OK', [b'6984'])"
      ]
     },
     "execution_count": 26,
     "metadata": {},
     "output_type": "execute_result"
    }
   ],
   "source": [
    "M.select(\"inbox\")"
   ]
  },
  {
   "cell_type": "code",
   "execution_count": 27,
   "id": "74292632",
   "metadata": {},
   "outputs": [],
   "source": [
    "    typ,data = M.search(None,'SUBJECT \"testing\"')"
   ]
  },
  {
   "cell_type": "code",
   "execution_count": 28,
   "id": "b0335984",
   "metadata": {},
   "outputs": [
    {
     "data": {
      "text/plain": [
       "'OK'"
      ]
     },
     "execution_count": 28,
     "metadata": {},
     "output_type": "execute_result"
    }
   ],
   "source": [
    "typ"
   ]
  },
  {
   "cell_type": "code",
   "execution_count": 30,
   "id": "08909df2",
   "metadata": {},
   "outputs": [
    {
     "data": {
      "text/plain": [
       "[b'5287']"
      ]
     },
     "execution_count": 30,
     "metadata": {},
     "output_type": "execute_result"
    }
   ],
   "source": [
    "data"
   ]
  },
  {
   "cell_type": "code",
   "execution_count": 31,
   "id": "63e6a991",
   "metadata": {},
   "outputs": [],
   "source": [
    "result, email_data = M.fetch(data[0],\"(RFC822)\")"
   ]
  },
  {
   "cell_type": "code",
   "execution_count": 33,
   "id": "f285729a",
   "metadata": {},
   "outputs": [],
   "source": [
    "raw_email = email_data[0][1]"
   ]
  },
  {
   "cell_type": "code",
   "execution_count": 34,
   "id": "1a511c92",
   "metadata": {},
   "outputs": [],
   "source": [
    "raw_email_string = raw_email.decode('utf-8')"
   ]
  },
  {
   "cell_type": "code",
   "execution_count": 35,
   "id": "96e80129",
   "metadata": {},
   "outputs": [],
   "source": [
    "import email"
   ]
  },
  {
   "cell_type": "code",
   "execution_count": 36,
   "id": "273b6176",
   "metadata": {},
   "outputs": [],
   "source": [
    "email_message = email.message_from_string(raw_email_string)"
   ]
  },
  {
   "cell_type": "code",
   "execution_count": 39,
   "id": "e99994bf",
   "metadata": {},
   "outputs": [
    {
     "name": "stdout",
     "output_type": "stream",
     "text": [
      "b'AI Factory: Get serious about testing and\\ndeploying AI with apps\\nContinuous testing and delivery of models and software pipelines\\nwith DevOps for AI\\n\\nDate: Tuesday, September 21, 2021\\nTime: 09:00 AM Pacific Daylight Time\\n\\nIn this 60 minute session, we will discuss the last mile of\\ntrusted AI delivery. Our featured guest, Diego Lo Giudice, VP &\\nPrincipal Analyst of Forrester, will discuss methods and best\\npractices of testing in AI systems. Diego will explore rigors of\\nmodel testing, model complexity and multiplicity, variation in\\nmodel performance over time and levels of uncertainty and\\nautonomy. He also covers how to address the business risks of\\ndeploying AI with apps, testing frameworks, collaborations across\\nDevOps, development and data science teams, lifecycle management\\nand much more. IBM will discuss the information architecture with\\na live demonstration to help unify processes, tools and talent to\\ndeploy AI at scale with Watson Studio on Cloud Pak for Data.\\nREGISTER HERE  \\n( https://clicks.ibm.com/f/a/TmIKcy29wFb5Sge-VWsydA~~/AAQRxQA~/RgRjI2xPP0RdaHR0cHM6Ly9ldmVudC5vbjI0LmNvbS93Y2Mvci8zMzE4NDU2L0IxMDQ1Q0QyNTMyRDU0MjlEMUVGRUY0MTZBNEMxMUExP3BhcnRuZXJyZWY9d2F0c29uc3R1ZGlvVwNzcGNCCmE_T-dAYcrqzj5SGGFudWthcnRoaWthNzc3QGdtYWlsLmNvbVgEAAAACQ~~ )\\n\\n\\nKey Takeaways           * Discover how\\nleading organizations are extending DevOps with ModelOps to\\nincrease yields of software development and drive digital\\ntransformation\\n* Learn potential areas of opportunities and challenges in\\ntesting and delivering AI inside an end-to-end lifecycle\\n* Explore best practices and methods for continuous integration\\nand continuous delivery (CICD) of models and apps\\n* Learn how Watson Studio helps you get started and drive model\\nand app delivery pipelines, including orchestration using\\nKubeflow.\\n\\nSIGN UP NOW \\n( https://clicks.ibm.com/f/a/TmIKcy29wFb5Sge-VWsydA~~/AAQRxQA~/RgRjI2xPP0RdaHR0cHM6Ly9ldmVudC5vbjI0LmNvbS93Y2Mvci8zMzE4NDU2L0IxMDQ1Q0QyNTMyRDU0MjlEMUVGRUY0MTZBNEMxMUExP3BhcnRuZXJyZWY9d2F0c29uc3R1ZGlvVwNzcGNCCmE_T-dAYcrqzj5SGGFudWthcnRoaWthNzc3QGdtYWlsLmNvbVgEAAAACQ~~ )\\n\\nFuture online AI events\\nOctober 5: \\n( https://clicks.ibm.com/f/a/EqW_fnRWXoOSon1su6ZlgQ~~/AAQRxQA~/RgRjI2xPP0RdaHR0cHM6Ly9ldmVudC5vbjI0LmNvbS93Y2Mvci8zMzE4NDk4LzJEODZFM0QwRURDQzRDNzgyRDk3Q0EzREY3OTdFN0REP3BhcnRuZXJyZWY9d2F0c29uc3R1ZGlvVwNzcGNCCmE_T-dAYcrqzj5SGGFudWthcnRoaWthNzc3QGdtYWlsLmNvbVgEAAAACQ~~ )\\nIBM Innovation Preview: Advances in AI and Lifecycle Automation\\n\\n( https://clicks.ibm.com/f/a/EqW_fnRWXoOSon1su6ZlgQ~~/AAQRxQA~/RgRjI2xPP0RdaHR0cHM6Ly9ldmVudC5vbjI0LmNvbS93Y2Mvci8zMzE4NDk4LzJEODZFM0QwRURDQzRDNzgyRDk3Q0EzREY3OTdFN0REP3BhcnRuZXJyZWY9d2F0c29uc3R1ZGlvVwNzcGNCCmE_T-dAYcrqzj5SGGFudWthcnRoaWthNzc3QGdtYWlsLmNvbVgEAAAACQ~~ )\\n\\nDecember 7: Top 2020 AI and Technology Solution Trends for your\\nbusiness \\n( https://clicks.ibm.com/f/a/eO42acivDuvh2_OAqndDzQ~~/AAQRxQA~/RgRjI2xPP0RdaHR0cHM6Ly9ldmVudC5vbjI0LmNvbS93Y2Mvci8zMzczMDIzLzhFRTQ4RDJBMDM1MzVGN0NGOTNCQjE5N0I1ODJEMzAxP3BhcnRuZXJyZWY9d2F0c29uc3R1ZGlvVwNzcGNCCmE_T-dAYcrqzj5SGGFudWthcnRoaWthNzc3QGdtYWlsLmNvbVgEAAAACQ~~ )\\n\\n\\nLook forward to seeing you on Tuesday, September 21!\\n\\nTalk to you soon,\\nThe Watson Studio Team                       2021 \\xc2\\xa9 All rights\\nreserved. Don\\xe2\\x80\\x99t want to receive amazing emails from us?\\nUnsubscribe ( https://clicks.ibm.com/f/a/Hjt5Q1T0ME_Xko0mXc29ew~~/AAQRxQA~/RgRjI2xPP0QoaHR0cHM6Ly9jbG91ZC5pYm0uY29tL3VzZXIvbm90aWZpY2F0aW9uc1cDc3BjQgphP0_nQGHK6s4-UhhhbnVrYXJ0aGlrYTc3N0BnbWFpbC5jb21YBAAAAAk~ ).'\n"
     ]
    }
   ],
   "source": [
    "for part in email_message.walk():\n",
    "    if part.get_content_type() == \"text/plain\":\n",
    "        body = part.get_payload(decode=True)\n",
    "        print(body)"
   ]
  },
  {
   "cell_type": "code",
   "execution_count": 38,
   "id": "f57628e5",
   "metadata": {},
   "outputs": [
    {
     "name": "stdout",
     "output_type": "stream",
     "text": [
      "b'AI Factory: Get serious about testing and\\ndeploying AI with apps\\nContinuous testing and delivery of models and software pipelines\\nwith DevOps for AI\\n\\nDate: Tuesday, September 21, 2021\\nTime: 09:00 AM Pacific Daylight Time\\n\\nIn this 60 minute session, we will discuss the last mile of\\ntrusted AI delivery. Our featured guest, Diego Lo Giudice, VP &\\nPrincipal Analyst of Forrester, will discuss methods and best\\npractices of testing in AI systems. Diego will explore rigors of\\nmodel testing, model complexity and multiplicity, variation in\\nmodel performance over time and levels of uncertainty and\\nautonomy. He also covers how to address the business risks of\\ndeploying AI with apps, testing frameworks, collaborations across\\nDevOps, development and data science teams, lifecycle management\\nand much more. IBM will discuss the information architecture with\\na live demonstration to help unify processes, tools and talent to\\ndeploy AI at scale with Watson Studio on Cloud Pak for Data.\\nREGISTER HERE  \\n( https://clicks.ibm.com/f/a/TmIKcy29wFb5Sge-VWsydA~~/AAQRxQA~/RgRjI2xPP0RdaHR0cHM6Ly9ldmVudC5vbjI0LmNvbS93Y2Mvci8zMzE4NDU2L0IxMDQ1Q0QyNTMyRDU0MjlEMUVGRUY0MTZBNEMxMUExP3BhcnRuZXJyZWY9d2F0c29uc3R1ZGlvVwNzcGNCCmE_T-dAYcrqzj5SGGFudWthcnRoaWthNzc3QGdtYWlsLmNvbVgEAAAACQ~~ )\\n\\n\\nKey Takeaways           * Discover how\\nleading organizations are extending DevOps with ModelOps to\\nincrease yields of software development and drive digital\\ntransformation\\n* Learn potential areas of opportunities and challenges in\\ntesting and delivering AI inside an end-to-end lifecycle\\n* Explore best practices and methods for continuous integration\\nand continuous delivery (CICD) of models and apps\\n* Learn how Watson Studio helps you get started and drive model\\nand app delivery pipelines, including orchestration using\\nKubeflow.\\n\\nSIGN UP NOW \\n( https://clicks.ibm.com/f/a/TmIKcy29wFb5Sge-VWsydA~~/AAQRxQA~/RgRjI2xPP0RdaHR0cHM6Ly9ldmVudC5vbjI0LmNvbS93Y2Mvci8zMzE4NDU2L0IxMDQ1Q0QyNTMyRDU0MjlEMUVGRUY0MTZBNEMxMUExP3BhcnRuZXJyZWY9d2F0c29uc3R1ZGlvVwNzcGNCCmE_T-dAYcrqzj5SGGFudWthcnRoaWthNzc3QGdtYWlsLmNvbVgEAAAACQ~~ )\\n\\nFuture online AI events\\nOctober 5: \\n( https://clicks.ibm.com/f/a/EqW_fnRWXoOSon1su6ZlgQ~~/AAQRxQA~/RgRjI2xPP0RdaHR0cHM6Ly9ldmVudC5vbjI0LmNvbS93Y2Mvci8zMzE4NDk4LzJEODZFM0QwRURDQzRDNzgyRDk3Q0EzREY3OTdFN0REP3BhcnRuZXJyZWY9d2F0c29uc3R1ZGlvVwNzcGNCCmE_T-dAYcrqzj5SGGFudWthcnRoaWthNzc3QGdtYWlsLmNvbVgEAAAACQ~~ )\\nIBM Innovation Preview: Advances in AI and Lifecycle Automation\\n\\n( https://clicks.ibm.com/f/a/EqW_fnRWXoOSon1su6ZlgQ~~/AAQRxQA~/RgRjI2xPP0RdaHR0cHM6Ly9ldmVudC5vbjI0LmNvbS93Y2Mvci8zMzE4NDk4LzJEODZFM0QwRURDQzRDNzgyRDk3Q0EzREY3OTdFN0REP3BhcnRuZXJyZWY9d2F0c29uc3R1ZGlvVwNzcGNCCmE_T-dAYcrqzj5SGGFudWthcnRoaWthNzc3QGdtYWlsLmNvbVgEAAAACQ~~ )\\n\\nDecember 7: Top 2020 AI and Technology Solution Trends for your\\nbusiness \\n( https://clicks.ibm.com/f/a/eO42acivDuvh2_OAqndDzQ~~/AAQRxQA~/RgRjI2xPP0RdaHR0cHM6Ly9ldmVudC5vbjI0LmNvbS93Y2Mvci8zMzczMDIzLzhFRTQ4RDJBMDM1MzVGN0NGOTNCQjE5N0I1ODJEMzAxP3BhcnRuZXJyZWY9d2F0c29uc3R1ZGlvVwNzcGNCCmE_T-dAYcrqzj5SGGFudWthcnRoaWthNzc3QGdtYWlsLmNvbVgEAAAACQ~~ )\\n\\n\\nLook forward to seeing you on Tuesday, September 21!\\n\\nTalk to you soon,\\nThe Watson Studio Team                       2021 \\xc2\\xa9 All rights\\nreserved. Don\\xe2\\x80\\x99t want to receive amazing emails from us?\\nUnsubscribe ( https://clicks.ibm.com/f/a/Hjt5Q1T0ME_Xko0mXc29ew~~/AAQRxQA~/RgRjI2xPP0QoaHR0cHM6Ly9jbG91ZC5pYm0uY29tL3VzZXIvbm90aWZpY2F0aW9uc1cDc3BjQgphP0_nQGHK6s4-UhhhbnVrYXJ0aGlrYTc3N0BnbWFpbC5jb21YBAAAAAk~ ).'\n"
     ]
    }
   ],
   "source": [
    "for part in email_message.walk():\n",
    "    if part.get_content_type() == \"text/plain\":\n",
    "        body = part.get_payload(decode=True)\n",
    "        print(body)"
   ]
  },
  {
   "cell_type": "code",
   "execution_count": null,
   "id": "a54c73f3",
   "metadata": {},
   "outputs": [],
   "source": []
  }
 ],
 "metadata": {
  "kernelspec": {
   "display_name": "Python 3 (ipykernel)",
   "language": "python",
   "name": "python3"
  },
  "language_info": {
   "codemirror_mode": {
    "name": "ipython",
    "version": 3
   },
   "file_extension": ".py",
   "mimetype": "text/x-python",
   "name": "python",
   "nbconvert_exporter": "python",
   "pygments_lexer": "ipython3",
   "version": "3.9.7"
  }
 },
 "nbformat": 4,
 "nbformat_minor": 5
}
