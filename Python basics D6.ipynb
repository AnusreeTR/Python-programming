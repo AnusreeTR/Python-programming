{
 "cells": [
  {
   "cell_type": "code",
   "execution_count": 1,
   "id": "c3d69102",
   "metadata": {},
   "outputs": [
    {
     "data": {
      "text/plain": [
       "['False',\n",
       " 'None',\n",
       " 'True',\n",
       " '__peg_parser__',\n",
       " 'and',\n",
       " 'as',\n",
       " 'assert',\n",
       " 'async',\n",
       " 'await',\n",
       " 'break',\n",
       " 'class',\n",
       " 'continue',\n",
       " 'def',\n",
       " 'del',\n",
       " 'elif',\n",
       " 'else',\n",
       " 'except',\n",
       " 'finally',\n",
       " 'for',\n",
       " 'from',\n",
       " 'global',\n",
       " 'if',\n",
       " 'import',\n",
       " 'in',\n",
       " 'is',\n",
       " 'lambda',\n",
       " 'nonlocal',\n",
       " 'not',\n",
       " 'or',\n",
       " 'pass',\n",
       " 'raise',\n",
       " 'return',\n",
       " 'try',\n",
       " 'while',\n",
       " 'with',\n",
       " 'yield']"
      ]
     },
     "execution_count": 1,
     "metadata": {},
     "output_type": "execute_result"
    }
   ],
   "source": [
    "import keyword\n",
    "keyword.kwlist"
   ]
  },
  {
   "cell_type": "code",
   "execution_count": 2,
   "id": "70804c0c",
   "metadata": {},
   "outputs": [
    {
     "data": {
      "text/plain": [
       "True"
      ]
     },
     "execution_count": 2,
     "metadata": {},
     "output_type": "execute_result"
    }
   ],
   "source": [
    "#keyword\n",
    "keyword.iskeyword('try')"
   ]
  },
  {
   "cell_type": "code",
   "execution_count": 4,
   "id": "afa34e53",
   "metadata": {},
   "outputs": [
    {
     "data": {
      "text/plain": [
       "False"
      ]
     },
     "execution_count": 4,
     "metadata": {},
     "output_type": "execute_result"
    }
   ],
   "source": [
    "keyword.iskeyword('anu')"
   ]
  },
  {
   "cell_type": "code",
   "execution_count": 5,
   "id": "8187678e",
   "metadata": {},
   "outputs": [],
   "source": [
    "# identifier\n",
    "name = 'anu'\n",
    "my_identifier = name"
   ]
  },
  {
   "cell_type": "code",
   "execution_count": 6,
   "id": "2b818294",
   "metadata": {},
   "outputs": [],
   "source": [
    "# this is a comment"
   ]
  },
  {
   "cell_type": "code",
   "execution_count": 7,
   "id": "0d190f39",
   "metadata": {},
   "outputs": [
    {
     "name": "stdout",
     "output_type": "stream",
     "text": [
      "10\n"
     ]
    }
   ],
   "source": [
    "#variables\n",
    "s = 10\n",
    "print(s)"
   ]
  },
  {
   "cell_type": "code",
   "execution_count": 8,
   "id": "6f83d48b",
   "metadata": {},
   "outputs": [
    {
     "name": "stdout",
     "output_type": "stream",
     "text": [
      "10\n",
      "20\n"
     ]
    }
   ],
   "source": [
    "#global variables\n",
    "a = 10\n",
    "def fn():\n",
    "    global a\n",
    "    a += 10\n",
    "    print(a)\n",
    "print(a)\n",
    "fn()"
   ]
  },
  {
   "cell_type": "code",
   "execution_count": 10,
   "id": "fe0e4d27",
   "metadata": {},
   "outputs": [
    {
     "name": "stdout",
     "output_type": "stream",
     "text": [
      "['csk', 'rcb', 'mi']\n"
     ]
    }
   ],
   "source": [
    "#list\n",
    "my_list = [\"csk\",\"rcb\",\"mi\"]\n",
    "print(my_list)"
   ]
  },
  {
   "cell_type": "code",
   "execution_count": 11,
   "id": "6d1c6c30",
   "metadata": {},
   "outputs": [
    {
     "data": {
      "text/plain": [
       "3"
      ]
     },
     "execution_count": 11,
     "metadata": {},
     "output_type": "execute_result"
    }
   ],
   "source": [
    "#length of list\n",
    "len(my_list)"
   ]
  },
  {
   "cell_type": "code",
   "execution_count": 13,
   "id": "62a5c186",
   "metadata": {},
   "outputs": [
    {
     "name": "stdout",
     "output_type": "stream",
     "text": [
      "3\n"
     ]
    }
   ],
   "source": [
    "print(len(my_list))"
   ]
  },
  {
   "cell_type": "code",
   "execution_count": 15,
   "id": "a3ed96ec",
   "metadata": {},
   "outputs": [
    {
     "name": "stdout",
     "output_type": "stream",
     "text": [
      "['IND', 'AUS', 'ENG'] [1, 2, 3, 5] [True, False]\n"
     ]
    }
   ],
   "source": [
    "lis = [\"IND\",\"AUS\",\"ENG\"]\n",
    "lis2 = [1,2,3,5]\n",
    "lis3 = [True, False]\n",
    "print(lis,lis2,lis3)\n",
    "#it will take any data type(string, int, bollean)"
   ]
  },
  {
   "cell_type": "code",
   "execution_count": 16,
   "id": "ca8a0120",
   "metadata": {},
   "outputs": [
    {
     "name": "stdout",
     "output_type": "stream",
     "text": [
      "['IND', 'AUS', 'ENG', 1, 2, 3, 5, 'Male', 'Female']\n"
     ]
    }
   ],
   "source": [
    "lis1 = [\"IND\",\"AUS\",\"ENG\",1,2,3,5,\"Male\",\"Female\"]\n",
    "print(lis1)"
   ]
  },
  {
   "cell_type": "code",
   "execution_count": 17,
   "id": "f62f353b",
   "metadata": {},
   "outputs": [
    {
     "name": "stdout",
     "output_type": "stream",
     "text": [
      "('IND', 'AUS', 'ENG', 1, 2, 3, 5, 'Male', 'Female')\n"
     ]
    }
   ],
   "source": [
    "#tuple \n",
    "\n",
    "tup1 = (\"IND\",\"AUS\",\"ENG\",1,2,3,5,\"Male\",\"Female\")\n",
    "print(tup1)"
   ]
  },
  {
   "cell_type": "code",
   "execution_count": 18,
   "id": "829b99a1",
   "metadata": {},
   "outputs": [
    {
     "name": "stdout",
     "output_type": "stream",
     "text": [
      "('IND', 'AUS', 'ENG', 'IND', 'AUS', 'ENG')\n"
     ]
    }
   ],
   "source": [
    "tup2 =(\"IND\",\"AUS\",\"ENG\",\"IND\",\"AUS\",\"ENG\")\n",
    "print(tup2)"
   ]
  },
  {
   "cell_type": "code",
   "execution_count": 19,
   "id": "39fd73b1",
   "metadata": {},
   "outputs": [
    {
     "name": "stdout",
     "output_type": "stream",
     "text": [
      "6\n"
     ]
    }
   ],
   "source": [
    "#length\n",
    "print(len(tup2))"
   ]
  },
  {
   "cell_type": "code",
   "execution_count": 20,
   "id": "ac4c93f3",
   "metadata": {},
   "outputs": [
    {
     "name": "stdout",
     "output_type": "stream",
     "text": [
      "{'ENG', 'IND', 'AUS'}\n"
     ]
    }
   ],
   "source": [
    "#sets= used to store multiple items in single variable, unordered, unchangeable, unindexed, represent curly braces\n",
    "\n",
    "set1 = {\"IND\",\"AUS\",\"ENG\"}\n",
    "print(set1)"
   ]
  },
  {
   "cell_type": "code",
   "execution_count": 22,
   "id": "418cd6ee",
   "metadata": {},
   "outputs": [
    {
     "name": "stdout",
     "output_type": "stream",
     "text": [
      "{'ENG', 'IND', 'AUS'}\n"
     ]
    }
   ],
   "source": [
    "#no duplicates allowed\n",
    "set1 = {\"IND\",\"AUS\",\"ENG\",\"AUS\"}\n",
    "print(set1)"
   ]
  },
  {
   "cell_type": "code",
   "execution_count": 23,
   "id": "186e4bd7",
   "metadata": {},
   "outputs": [
    {
     "name": "stdout",
     "output_type": "stream",
     "text": [
      "('IND', 'AUS', 'ENG', 1, 2, 3, 5, 'Male', 'Female')\n"
     ]
    }
   ],
   "source": [
    "#set \n",
    "\n",
    "set1 = (\"IND\",\"AUS\",\"ENG\",1,2,3,5,\"Male\",\"Female\")\n",
    "print(set1)"
   ]
  },
  {
   "cell_type": "code",
   "execution_count": null,
   "id": "c3c2fe78",
   "metadata": {},
   "outputs": [],
   "source": [
    "#dictionary\n",
    "\n",
    "dict1 = {key:1}"
   ]
  }
 ],
 "metadata": {
  "kernelspec": {
   "display_name": "Python 3 (ipykernel)",
   "language": "python",
   "name": "python3"
  },
  "language_info": {
   "codemirror_mode": {
    "name": "ipython",
    "version": 3
   },
   "file_extension": ".py",
   "mimetype": "text/x-python",
   "name": "python",
   "nbconvert_exporter": "python",
   "pygments_lexer": "ipython3",
   "version": "3.9.7"
  }
 },
 "nbformat": 4,
 "nbformat_minor": 5
}
